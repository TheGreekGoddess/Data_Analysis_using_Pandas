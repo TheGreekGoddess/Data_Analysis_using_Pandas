{
 "cells": [
  {
   "cell_type": "markdown",
   "metadata": {},
   "source": [
    "### Note\n",
    "* Instructions have been included for each segment. You do not have to follow them exactly, but they are included to help you think through the steps."
   ]
  },
  {
   "cell_type": "code",
   "execution_count": 1,
   "metadata": {},
   "outputs": [
    {
     "data": {
      "text/html": [
       "<div>\n",
       "<style scoped>\n",
       "    .dataframe tbody tr th:only-of-type {\n",
       "        vertical-align: middle;\n",
       "    }\n",
       "\n",
       "    .dataframe tbody tr th {\n",
       "        vertical-align: top;\n",
       "    }\n",
       "\n",
       "    .dataframe thead th {\n",
       "        text-align: right;\n",
       "    }\n",
       "</style>\n",
       "<table border=\"1\" class=\"dataframe\">\n",
       "  <thead>\n",
       "    <tr style=\"text-align: right;\">\n",
       "      <th></th>\n",
       "      <th>Purchase ID</th>\n",
       "      <th>SN</th>\n",
       "      <th>Age</th>\n",
       "      <th>Gender</th>\n",
       "      <th>Item ID</th>\n",
       "      <th>Item Name</th>\n",
       "      <th>Price</th>\n",
       "    </tr>\n",
       "  </thead>\n",
       "  <tbody>\n",
       "    <tr>\n",
       "      <th>0</th>\n",
       "      <td>0</td>\n",
       "      <td>Lisim78</td>\n",
       "      <td>20</td>\n",
       "      <td>Male</td>\n",
       "      <td>108</td>\n",
       "      <td>Extraction, Quickblade Of Trembling Hands</td>\n",
       "      <td>3.53</td>\n",
       "    </tr>\n",
       "    <tr>\n",
       "      <th>1</th>\n",
       "      <td>1</td>\n",
       "      <td>Lisovynya38</td>\n",
       "      <td>40</td>\n",
       "      <td>Male</td>\n",
       "      <td>143</td>\n",
       "      <td>Frenzied Scimitar</td>\n",
       "      <td>1.56</td>\n",
       "    </tr>\n",
       "    <tr>\n",
       "      <th>2</th>\n",
       "      <td>2</td>\n",
       "      <td>Ithergue48</td>\n",
       "      <td>24</td>\n",
       "      <td>Male</td>\n",
       "      <td>92</td>\n",
       "      <td>Final Critic</td>\n",
       "      <td>4.88</td>\n",
       "    </tr>\n",
       "    <tr>\n",
       "      <th>3</th>\n",
       "      <td>3</td>\n",
       "      <td>Chamassasya86</td>\n",
       "      <td>24</td>\n",
       "      <td>Male</td>\n",
       "      <td>100</td>\n",
       "      <td>Blindscythe</td>\n",
       "      <td>3.27</td>\n",
       "    </tr>\n",
       "    <tr>\n",
       "      <th>4</th>\n",
       "      <td>4</td>\n",
       "      <td>Iskosia90</td>\n",
       "      <td>23</td>\n",
       "      <td>Male</td>\n",
       "      <td>131</td>\n",
       "      <td>Fury</td>\n",
       "      <td>1.44</td>\n",
       "    </tr>\n",
       "  </tbody>\n",
       "</table>\n",
       "</div>"
      ],
      "text/plain": [
       "   Purchase ID             SN  Age Gender  Item ID  \\\n",
       "0            0        Lisim78   20   Male      108   \n",
       "1            1    Lisovynya38   40   Male      143   \n",
       "2            2     Ithergue48   24   Male       92   \n",
       "3            3  Chamassasya86   24   Male      100   \n",
       "4            4      Iskosia90   23   Male      131   \n",
       "\n",
       "                                   Item Name  Price  \n",
       "0  Extraction, Quickblade Of Trembling Hands   3.53  \n",
       "1                          Frenzied Scimitar   1.56  \n",
       "2                               Final Critic   4.88  \n",
       "3                                Blindscythe   3.27  \n",
       "4                                       Fury   1.44  "
      ]
     },
     "execution_count": 1,
     "metadata": {},
     "output_type": "execute_result"
    }
   ],
   "source": [
    "# Import dependencies and Setup\n",
    "import pandas as pd\n",
    "import numpy as np\n",
    "\n",
    "# File to Load (Remember to Change These)\n",
    "file_to_load = \"Resources/purchase_data.csv\"\n",
    "\n",
    "# Read the purchase_data.csv file and store into Pandas data frame\n",
    "purchase_data = pd.read_csv(file_to_load)\n",
    "\n",
    "# Preview the columns in the purchase_data.csv\n",
    "purchase_data.head()"
   ]
  },
  {
   "cell_type": "markdown",
   "metadata": {},
   "source": [
    "## Player Count"
   ]
  },
  {
   "cell_type": "markdown",
   "metadata": {},
   "source": [
    "* Display the total number of players\n"
   ]
  },
  {
   "cell_type": "code",
   "execution_count": 2,
   "metadata": {},
   "outputs": [
    {
     "data": {
      "text/html": [
       "<div>\n",
       "<style scoped>\n",
       "    .dataframe tbody tr th:only-of-type {\n",
       "        vertical-align: middle;\n",
       "    }\n",
       "\n",
       "    .dataframe tbody tr th {\n",
       "        vertical-align: top;\n",
       "    }\n",
       "\n",
       "    .dataframe thead th {\n",
       "        text-align: right;\n",
       "    }\n",
       "</style>\n",
       "<table border=\"1\" class=\"dataframe\">\n",
       "  <thead>\n",
       "    <tr style=\"text-align: right;\">\n",
       "      <th></th>\n",
       "      <th>Total Players</th>\n",
       "    </tr>\n",
       "  </thead>\n",
       "  <tbody>\n",
       "    <tr>\n",
       "      <th>0</th>\n",
       "      <td>576</td>\n",
       "    </tr>\n",
       "  </tbody>\n",
       "</table>\n",
       "</div>"
      ],
      "text/plain": [
       "   Total Players\n",
       "0            576"
      ]
     },
     "execution_count": 2,
     "metadata": {},
     "output_type": "execute_result"
    }
   ],
   "source": [
    "# Create a variable to narrow list of unique players by their screen names\n",
    "number_of_players =  len(purchase_data[\"SN\"].unique())\n",
    "\n",
    "# Assign a dataframe to publish the requested output\n",
    "pd.DataFrame({\"Total Players\": [number_of_players]})"
   ]
  },
  {
   "cell_type": "markdown",
   "metadata": {},
   "source": [
    "## Purchasing Analysis (Total)"
   ]
  },
  {
   "cell_type": "markdown",
   "metadata": {},
   "source": [
    "* Run basic calculations to obtain number of unique items, average price, etc.\n",
    "\n",
    "\n",
    "* Create a summary data frame to hold the results\n",
    "\n",
    "\n",
    "* Optional: give the displayed data cleaner formatting\n",
    "\n",
    "\n",
    "* Display the summary data frame\n"
   ]
  },
  {
   "cell_type": "code",
   "execution_count": 3,
   "metadata": {
    "scrolled": true
   },
   "outputs": [
    {
     "data": {
      "text/html": [
       "<div>\n",
       "<style scoped>\n",
       "    .dataframe tbody tr th:only-of-type {\n",
       "        vertical-align: middle;\n",
       "    }\n",
       "\n",
       "    .dataframe tbody tr th {\n",
       "        vertical-align: top;\n",
       "    }\n",
       "\n",
       "    .dataframe thead th {\n",
       "        text-align: right;\n",
       "    }\n",
       "</style>\n",
       "<table border=\"1\" class=\"dataframe\">\n",
       "  <thead>\n",
       "    <tr style=\"text-align: right;\">\n",
       "      <th></th>\n",
       "      <th>Number of Unique Items</th>\n",
       "      <th>Average Price</th>\n",
       "      <th>Number of Purchases</th>\n",
       "      <th>Total Revenue</th>\n",
       "    </tr>\n",
       "  </thead>\n",
       "  <tbody>\n",
       "    <tr>\n",
       "      <th>0</th>\n",
       "      <td>183</td>\n",
       "      <td>$3.05</td>\n",
       "      <td>780</td>\n",
       "      <td>$2379.77</td>\n",
       "    </tr>\n",
       "  </tbody>\n",
       "</table>\n",
       "</div>"
      ],
      "text/plain": [
       "   Number of Unique Items Average Price  Number of Purchases Total Revenue\n",
       "0                     183         $3.05                  780      $2379.77"
      ]
     },
     "execution_count": 3,
     "metadata": {},
     "output_type": "execute_result"
    }
   ],
   "source": [
    "# Create variables to run basic calculations to obtain number of unique items, average price, etc.\n",
    "unique_items = len(purchase_data[\"Item ID\"].unique())\n",
    "average_price = purchase_data[\"Price\"].mean()\n",
    "total_purchases = purchase_data[\"Item Name\"].count()\n",
    "total_revenue = purchase_data[\"Price\"].sum()\n",
    "\n",
    "# Create a summary data frame to hold the results\n",
    "purchasing_analysis_df = pd.DataFrame({\"Number of Unique Items\": [unique_items],\n",
    "                          \"Average Price\": [average_price],\n",
    "                          \"Number of Purchases\": [total_purchases],\n",
    "                          \"Total Revenue\": [total_revenue]})\n",
    "\n",
    "# Give the displayed data elements a cleaner formatting\n",
    "purchasing_analysis_df[\"Average Price\"] = purchasing_analysis_df[\"Average Price\"].map(\"${:.2f}\".format)\n",
    "purchasing_analysis_df[\"Total Revenue\"] = purchasing_analysis_df[\"Total Revenue\"].map(\"${:.2f}\".format)\n",
    "\n",
    "# Display the summary data frame\n",
    "purchasing_analysis_df"
   ]
  },
  {
   "cell_type": "markdown",
   "metadata": {},
   "source": [
    "## Gender Demographics"
   ]
  },
  {
   "cell_type": "markdown",
   "metadata": {},
   "source": [
    "* Percentage and Count of Male Players\n",
    "\n",
    "\n",
    "* Percentage and Count of Female Players\n",
    "\n",
    "\n",
    "* Percentage and Count of Other / Non-Disclosed\n",
    "\n",
    "\n"
   ]
  },
  {
   "cell_type": "code",
   "execution_count": 5,
   "metadata": {},
   "outputs": [
    {
     "data": {
      "text/html": [
       "<style  type=\"text/css\" >\n",
       "</style><table id=\"T_9a288aba_a6db_11ea_a3ad_105bad895ad2\" ><thead>    <tr>        <th class=\"blank level0\" ></th>        <th class=\"col_heading level0 col0\" >Total Count</th>        <th class=\"col_heading level0 col1\" >Percentage of Players</th>    </tr></thead><tbody>\n",
       "                <tr>\n",
       "                        <th id=\"T_9a288aba_a6db_11ea_a3ad_105bad895ad2level0_row0\" class=\"row_heading level0 row0\" >Male</th>\n",
       "                        <td id=\"T_9a288aba_a6db_11ea_a3ad_105bad895ad2row0_col0\" class=\"data row0 col0\" >484</td>\n",
       "                        <td id=\"T_9a288aba_a6db_11ea_a3ad_105bad895ad2row0_col1\" class=\"data row0 col1\" >84.03%</td>\n",
       "            </tr>\n",
       "            <tr>\n",
       "                        <th id=\"T_9a288aba_a6db_11ea_a3ad_105bad895ad2level0_row1\" class=\"row_heading level0 row1\" >Female</th>\n",
       "                        <td id=\"T_9a288aba_a6db_11ea_a3ad_105bad895ad2row1_col0\" class=\"data row1 col0\" >81</td>\n",
       "                        <td id=\"T_9a288aba_a6db_11ea_a3ad_105bad895ad2row1_col1\" class=\"data row1 col1\" >14.06%</td>\n",
       "            </tr>\n",
       "            <tr>\n",
       "                        <th id=\"T_9a288aba_a6db_11ea_a3ad_105bad895ad2level0_row2\" class=\"row_heading level0 row2\" >Other / Non-Disclosed</th>\n",
       "                        <td id=\"T_9a288aba_a6db_11ea_a3ad_105bad895ad2row2_col0\" class=\"data row2 col0\" >11</td>\n",
       "                        <td id=\"T_9a288aba_a6db_11ea_a3ad_105bad895ad2row2_col1\" class=\"data row2 col1\" >1.91%</td>\n",
       "            </tr>\n",
       "    </tbody></table>"
      ],
      "text/plain": [
       "<pandas.io.formats.style.Styler at 0x2c837e11288>"
      ]
     },
     "execution_count": 5,
     "metadata": {},
     "output_type": "execute_result"
    }
   ],
   "source": [
    "# Group the data by the unique gender values contained in the data set\n",
    "gender_types = purchase_data.groupby(\"Gender\")\n",
    "\n",
    "# Extract the gender of the total unique players by their screen name\n",
    "unique_gender_counts = gender_types[\"SN\"].nunique()\n",
    "\n",
    "# Calculate the percentage by gender of the total unique players \n",
    "percentage_of_players = unique_gender_counts / number_of_players\n",
    "\n",
    "# Create a summary data frame with calculated values\n",
    "gender_demographics_df = pd.DataFrame({\"Total Count\": unique_gender_counts,\"Percentage of Players\": percentage_of_players})\n",
    "\n",
    "# Format the data frame with no index name in the corner\n",
    "gender_demographics_df.index.name = None\n",
    "\n",
    "# Give the displayed data elements a cleaner formatting and add two decimal places for the percentage. Sort by total count in descending order\n",
    "gender_demographics_df.sort_values([\"Total Count\"], ascending = False).style.format({\"Percentage of Players\":\"{:.2%}\"})"
   ]
  },
  {
   "cell_type": "markdown",
   "metadata": {},
   "source": [
    "\n",
    "## Purchasing Analysis (Gender)"
   ]
  },
  {
   "cell_type": "markdown",
   "metadata": {},
   "source": [
    "* Run basic calculations to obtain purchase count, avg. purchase price, avg. purchase total per person etc. by gender\n",
    "\n",
    "\n",
    "\n",
    "\n",
    "* Create a summary data frame to hold the results\n",
    "\n",
    "\n",
    "* Optional: give the displayed data cleaner formatting\n",
    "\n",
    "\n",
    "* Display the summary data frame"
   ]
  },
  {
   "cell_type": "code",
   "execution_count": 7,
   "metadata": {},
   "outputs": [
    {
     "data": {
      "text/html": [
       "<style  type=\"text/css\" >\n",
       "</style><table id=\"T_b3ad1cfa_a6db_11ea_8450_105bad895ad2\" ><thead>    <tr>        <th class=\"blank level0\" ></th>        <th class=\"col_heading level0 col0\" >Purchase Count</th>        <th class=\"col_heading level0 col1\" >Average purchase price</th>        <th class=\"col_heading level0 col2\" >Average purchase total</th>        <th class=\"col_heading level0 col3\" >Average purchase total by person</th>    </tr>    <tr>        <th class=\"index_name level0\" >Gender</th>        <th class=\"blank\" ></th>        <th class=\"blank\" ></th>        <th class=\"blank\" ></th>        <th class=\"blank\" ></th>    </tr></thead><tbody>\n",
       "                <tr>\n",
       "                        <th id=\"T_b3ad1cfa_a6db_11ea_8450_105bad895ad2level0_row0\" class=\"row_heading level0 row0\" >Female</th>\n",
       "                        <td id=\"T_b3ad1cfa_a6db_11ea_8450_105bad895ad2row0_col0\" class=\"data row0 col0\" >113</td>\n",
       "                        <td id=\"T_b3ad1cfa_a6db_11ea_8450_105bad895ad2row0_col1\" class=\"data row0 col1\" >$3.20</td>\n",
       "                        <td id=\"T_b3ad1cfa_a6db_11ea_8450_105bad895ad2row0_col2\" class=\"data row0 col2\" >$361.94</td>\n",
       "                        <td id=\"T_b3ad1cfa_a6db_11ea_8450_105bad895ad2row0_col3\" class=\"data row0 col3\" >$4.47</td>\n",
       "            </tr>\n",
       "            <tr>\n",
       "                        <th id=\"T_b3ad1cfa_a6db_11ea_8450_105bad895ad2level0_row1\" class=\"row_heading level0 row1\" >Male</th>\n",
       "                        <td id=\"T_b3ad1cfa_a6db_11ea_8450_105bad895ad2row1_col0\" class=\"data row1 col0\" >652</td>\n",
       "                        <td id=\"T_b3ad1cfa_a6db_11ea_8450_105bad895ad2row1_col1\" class=\"data row1 col1\" >$3.02</td>\n",
       "                        <td id=\"T_b3ad1cfa_a6db_11ea_8450_105bad895ad2row1_col2\" class=\"data row1 col2\" >$1,967.64</td>\n",
       "                        <td id=\"T_b3ad1cfa_a6db_11ea_8450_105bad895ad2row1_col3\" class=\"data row1 col3\" >$4.07</td>\n",
       "            </tr>\n",
       "            <tr>\n",
       "                        <th id=\"T_b3ad1cfa_a6db_11ea_8450_105bad895ad2level0_row2\" class=\"row_heading level0 row2\" >Other / Non-Disclosed</th>\n",
       "                        <td id=\"T_b3ad1cfa_a6db_11ea_8450_105bad895ad2row2_col0\" class=\"data row2 col0\" >15</td>\n",
       "                        <td id=\"T_b3ad1cfa_a6db_11ea_8450_105bad895ad2row2_col1\" class=\"data row2 col1\" >$3.35</td>\n",
       "                        <td id=\"T_b3ad1cfa_a6db_11ea_8450_105bad895ad2row2_col2\" class=\"data row2 col2\" >$50.19</td>\n",
       "                        <td id=\"T_b3ad1cfa_a6db_11ea_8450_105bad895ad2row2_col3\" class=\"data row2 col3\" >$4.56</td>\n",
       "            </tr>\n",
       "    </tbody></table>"
      ],
      "text/plain": [
       "<pandas.io.formats.style.Styler at 0x2c8382d8d88>"
      ]
     },
     "execution_count": 7,
     "metadata": {},
     "output_type": "execute_result"
    }
   ],
   "source": [
    "# Run basic calculations to obtain purchase count, avg. purchase price, avg. purchase total per person etc. by gender\n",
    "purchase_count = gender_types[\"Price\"].count()\n",
    "average_purchase_price = gender_types[\"Price\"].mean()\n",
    "total_purchase_price = gender_types[\"Price\"].sum()\n",
    "average_total_purchase_by_person = total_purchase_price/unique_gender_counts\n",
    "\n",
    "# Create a summary data frame to hold the results\n",
    "purchase_anaylsis_by_gender = pd.DataFrame({\n",
    "    \"Purchase Count\" : purchase_count,\n",
    "    \"Average purchase price\" : average_purchase_price,\n",
    "    \"Average purchase total\" : total_purchase_price,\n",
    "    \"Average purchase total by person\" : average_total_purchase_by_person})\n",
    "\n",
    "# Provide index in top left as \"Gender\" is displayed on the starter jupyter notebook\n",
    "purchase_anaylsis_by_gender.index.name = \"Gender\"\n",
    "\n",
    "# Display the summary data frame with cleaner formatting with two decimal places\n",
    "purchase_anaylsis_by_gender.style.format({\"Average purchase price\":\"${:,.2f}\",\n",
    "                                          \"Average purchase total\":\"${:,.2f}\",\n",
    "                                          \"Average purchase total by person\":\"${:,.2f}\"})                       "
   ]
  },
  {
   "cell_type": "markdown",
   "metadata": {},
   "source": [
    "## Age Demographics"
   ]
  },
  {
   "cell_type": "markdown",
   "metadata": {},
   "source": [
    "* Establish bins for ages\n",
    "\n",
    "\n",
    "* Categorize the existing players using the age bins. Hint: use pd.cut()\n",
    "\n",
    "\n",
    "* Calculate the numbers and percentages by age group\n",
    "\n",
    "\n",
    "* Create a summary data frame to hold the results\n",
    "\n",
    "\n",
    "* Optional: round the percentage column to two decimal points\n",
    "\n",
    "\n",
    "* Display Age Demographics Table\n"
   ]
  },
  {
   "cell_type": "code",
   "execution_count": 9,
   "metadata": {},
   "outputs": [
    {
     "data": {
      "text/html": [
       "<style  type=\"text/css\" >\n",
       "</style><table id=\"T_c4eef238_a6db_11ea_84ac_105bad895ad2\" ><thead>    <tr>        <th class=\"blank level0\" ></th>        <th class=\"col_heading level0 col0\" >Total Count</th>        <th class=\"col_heading level0 col1\" >Percentage of Players</th>    </tr></thead><tbody>\n",
       "                <tr>\n",
       "                        <th id=\"T_c4eef238_a6db_11ea_84ac_105bad895ad2level0_row0\" class=\"row_heading level0 row0\" ><10</th>\n",
       "                        <td id=\"T_c4eef238_a6db_11ea_84ac_105bad895ad2row0_col0\" class=\"data row0 col0\" >17</td>\n",
       "                        <td id=\"T_c4eef238_a6db_11ea_84ac_105bad895ad2row0_col1\" class=\"data row0 col1\" >2.95%</td>\n",
       "            </tr>\n",
       "            <tr>\n",
       "                        <th id=\"T_c4eef238_a6db_11ea_84ac_105bad895ad2level0_row1\" class=\"row_heading level0 row1\" >10-14</th>\n",
       "                        <td id=\"T_c4eef238_a6db_11ea_84ac_105bad895ad2row1_col0\" class=\"data row1 col0\" >22</td>\n",
       "                        <td id=\"T_c4eef238_a6db_11ea_84ac_105bad895ad2row1_col1\" class=\"data row1 col1\" >3.82%</td>\n",
       "            </tr>\n",
       "            <tr>\n",
       "                        <th id=\"T_c4eef238_a6db_11ea_84ac_105bad895ad2level0_row2\" class=\"row_heading level0 row2\" >15-19</th>\n",
       "                        <td id=\"T_c4eef238_a6db_11ea_84ac_105bad895ad2row2_col0\" class=\"data row2 col0\" >107</td>\n",
       "                        <td id=\"T_c4eef238_a6db_11ea_84ac_105bad895ad2row2_col1\" class=\"data row2 col1\" >18.58%</td>\n",
       "            </tr>\n",
       "            <tr>\n",
       "                        <th id=\"T_c4eef238_a6db_11ea_84ac_105bad895ad2level0_row3\" class=\"row_heading level0 row3\" >20-24</th>\n",
       "                        <td id=\"T_c4eef238_a6db_11ea_84ac_105bad895ad2row3_col0\" class=\"data row3 col0\" >258</td>\n",
       "                        <td id=\"T_c4eef238_a6db_11ea_84ac_105bad895ad2row3_col1\" class=\"data row3 col1\" >44.79%</td>\n",
       "            </tr>\n",
       "            <tr>\n",
       "                        <th id=\"T_c4eef238_a6db_11ea_84ac_105bad895ad2level0_row4\" class=\"row_heading level0 row4\" >25-29</th>\n",
       "                        <td id=\"T_c4eef238_a6db_11ea_84ac_105bad895ad2row4_col0\" class=\"data row4 col0\" >77</td>\n",
       "                        <td id=\"T_c4eef238_a6db_11ea_84ac_105bad895ad2row4_col1\" class=\"data row4 col1\" >13.37%</td>\n",
       "            </tr>\n",
       "            <tr>\n",
       "                        <th id=\"T_c4eef238_a6db_11ea_84ac_105bad895ad2level0_row5\" class=\"row_heading level0 row5\" >30-34</th>\n",
       "                        <td id=\"T_c4eef238_a6db_11ea_84ac_105bad895ad2row5_col0\" class=\"data row5 col0\" >52</td>\n",
       "                        <td id=\"T_c4eef238_a6db_11ea_84ac_105bad895ad2row5_col1\" class=\"data row5 col1\" >9.03%</td>\n",
       "            </tr>\n",
       "            <tr>\n",
       "                        <th id=\"T_c4eef238_a6db_11ea_84ac_105bad895ad2level0_row6\" class=\"row_heading level0 row6\" >35-39</th>\n",
       "                        <td id=\"T_c4eef238_a6db_11ea_84ac_105bad895ad2row6_col0\" class=\"data row6 col0\" >31</td>\n",
       "                        <td id=\"T_c4eef238_a6db_11ea_84ac_105bad895ad2row6_col1\" class=\"data row6 col1\" >5.38%</td>\n",
       "            </tr>\n",
       "            <tr>\n",
       "                        <th id=\"T_c4eef238_a6db_11ea_84ac_105bad895ad2level0_row7\" class=\"row_heading level0 row7\" >40+</th>\n",
       "                        <td id=\"T_c4eef238_a6db_11ea_84ac_105bad895ad2row7_col0\" class=\"data row7 col0\" >12</td>\n",
       "                        <td id=\"T_c4eef238_a6db_11ea_84ac_105bad895ad2row7_col1\" class=\"data row7 col1\" >2.08%</td>\n",
       "            </tr>\n",
       "    </tbody></table>"
      ],
      "text/plain": [
       "<pandas.io.formats.style.Styler at 0x2c8382e4048>"
      ]
     },
     "execution_count": 9,
     "metadata": {},
     "output_type": "execute_result"
    }
   ],
   "source": [
    "# Establish bins for ages\n",
    "age_bins = [0, 9.90, 14.90, 19.90, 24.90, 29.90, 34.90, 39.90, 99999]\n",
    "age_bin_names = [\"<10\", \"10-14\", \"15-19\", \"20-24\", \"25-29\", \"30-34\", \"35-39\", \"40+\"]\n",
    "\n",
    "# Categorize the existing players using the age bins\n",
    "purchase_data[\"Age Group\"] = pd.cut(purchase_data[\"Age\"],age_bins, labels=age_bin_names)\n",
    "purchase_data\n",
    "\n",
    "# Create new data frame with a new column name \"Age Group\" and group by it\n",
    "age_grouped = purchase_data.groupby(\"Age Group\")\n",
    "\n",
    "# Calculate the total players by age group\n",
    "total_count_age = age_grouped[\"SN\"].nunique()\n",
    "\n",
    "# Calculate the percentages of players by age group\n",
    "percentage_by_age = (total_count_age/number_of_players)\n",
    "\n",
    "# Create data frame with obtained values\n",
    "age_demographics = pd.DataFrame({\"Total Count\": total_count_age,\"Percentage of Players\": percentage_by_age})\n",
    "\n",
    "# Format the data frame with no index name in the corner\n",
    "age_demographics.index.name = None\n",
    "\n",
    "# Display the summary data frame with cleaner formatting with two decimal places for percentage\n",
    "age_demographics.style.format({\"Percentage of Players\":\"{:,.2%}\"})"
   ]
  },
  {
   "cell_type": "markdown",
   "metadata": {},
   "source": [
    "## Purchasing Analysis (Age)"
   ]
  },
  {
   "cell_type": "markdown",
   "metadata": {},
   "source": [
    "* Bin the purchase_data data frame by age\n",
    "\n",
    "\n",
    "* Run basic calculations to obtain purchase count, avg. purchase price, avg. purchase total per person etc. in the table below\n",
    "\n",
    "\n",
    "* Create a summary data frame to hold the results\n",
    "\n",
    "\n",
    "* Optional: give the displayed data cleaner formatting\n",
    "\n",
    "\n",
    "* Display the summary data frame"
   ]
  },
  {
   "cell_type": "code",
   "execution_count": 7,
   "metadata": {},
   "outputs": [
    {
     "data": {
      "text/html": [
       "<div>\n",
       "<style scoped>\n",
       "    .dataframe tbody tr th:only-of-type {\n",
       "        vertical-align: middle;\n",
       "    }\n",
       "\n",
       "    .dataframe tbody tr th {\n",
       "        vertical-align: top;\n",
       "    }\n",
       "\n",
       "    .dataframe thead th {\n",
       "        text-align: right;\n",
       "    }\n",
       "</style>\n",
       "<table border=\"1\" class=\"dataframe\">\n",
       "  <thead>\n",
       "    <tr style=\"text-align: right;\">\n",
       "      <th></th>\n",
       "      <th>Purchase Count</th>\n",
       "      <th>Average Purchase Price</th>\n",
       "      <th>Total Purchase Value</th>\n",
       "      <th>Avg Total Purchase per Person</th>\n",
       "    </tr>\n",
       "    <tr>\n",
       "      <th>Age Ranges</th>\n",
       "      <th></th>\n",
       "      <th></th>\n",
       "      <th></th>\n",
       "      <th></th>\n",
       "    </tr>\n",
       "  </thead>\n",
       "  <tbody>\n",
       "    <tr>\n",
       "      <th>&lt;10</th>\n",
       "      <td>23</td>\n",
       "      <td>$3.35</td>\n",
       "      <td>$77.13</td>\n",
       "      <td>$4.54</td>\n",
       "    </tr>\n",
       "    <tr>\n",
       "      <th>10-14</th>\n",
       "      <td>28</td>\n",
       "      <td>$2.96</td>\n",
       "      <td>$82.78</td>\n",
       "      <td>$3.76</td>\n",
       "    </tr>\n",
       "    <tr>\n",
       "      <th>15-19</th>\n",
       "      <td>136</td>\n",
       "      <td>$3.04</td>\n",
       "      <td>$412.89</td>\n",
       "      <td>$3.86</td>\n",
       "    </tr>\n",
       "    <tr>\n",
       "      <th>20-24</th>\n",
       "      <td>365</td>\n",
       "      <td>$3.05</td>\n",
       "      <td>$1,114.06</td>\n",
       "      <td>$4.32</td>\n",
       "    </tr>\n",
       "    <tr>\n",
       "      <th>25-29</th>\n",
       "      <td>101</td>\n",
       "      <td>$2.90</td>\n",
       "      <td>$293.00</td>\n",
       "      <td>$3.81</td>\n",
       "    </tr>\n",
       "    <tr>\n",
       "      <th>30-34</th>\n",
       "      <td>73</td>\n",
       "      <td>$2.93</td>\n",
       "      <td>$214.00</td>\n",
       "      <td>$4.12</td>\n",
       "    </tr>\n",
       "    <tr>\n",
       "      <th>35-39</th>\n",
       "      <td>41</td>\n",
       "      <td>$3.60</td>\n",
       "      <td>$147.67</td>\n",
       "      <td>$4.76</td>\n",
       "    </tr>\n",
       "    <tr>\n",
       "      <th>40+</th>\n",
       "      <td>13</td>\n",
       "      <td>$2.94</td>\n",
       "      <td>$38.24</td>\n",
       "      <td>$3.19</td>\n",
       "    </tr>\n",
       "  </tbody>\n",
       "</table>\n",
       "</div>"
      ],
      "text/plain": [
       "           Purchase Count Average Purchase Price Total Purchase Value  \\\n",
       "Age Ranges                                                              \n",
       "<10                    23                  $3.35               $77.13   \n",
       "10-14                  28                  $2.96               $82.78   \n",
       "15-19                 136                  $3.04              $412.89   \n",
       "20-24                 365                  $3.05            $1,114.06   \n",
       "25-29                 101                  $2.90              $293.00   \n",
       "30-34                  73                  $2.93              $214.00   \n",
       "35-39                  41                  $3.60              $147.67   \n",
       "40+                    13                  $2.94               $38.24   \n",
       "\n",
       "           Avg Total Purchase per Person  \n",
       "Age Ranges                                \n",
       "<10                                $4.54  \n",
       "10-14                              $3.76  \n",
       "15-19                              $3.86  \n",
       "20-24                              $4.32  \n",
       "25-29                              $3.81  \n",
       "30-34                              $4.12  \n",
       "35-39                              $4.76  \n",
       "40+                                $3.19  "
      ]
     },
     "execution_count": 7,
     "metadata": {},
     "output_type": "execute_result"
    }
   ],
   "source": []
  },
  {
   "cell_type": "markdown",
   "metadata": {},
   "source": [
    "## Top Spenders"
   ]
  },
  {
   "cell_type": "markdown",
   "metadata": {},
   "source": [
    "* Run basic calculations to obtain the results in the table below\n",
    "\n",
    "\n",
    "* Create a summary data frame to hold the results\n",
    "\n",
    "\n",
    "* Sort the total purchase value column in descending order\n",
    "\n",
    "\n",
    "* Optional: give the displayed data cleaner formatting\n",
    "\n",
    "\n",
    "* Display a preview of the summary data frame\n",
    "\n"
   ]
  },
  {
   "cell_type": "code",
   "execution_count": 13,
   "metadata": {},
   "outputs": [
    {
     "data": {
      "text/html": [
       "<style  type=\"text/css\" >\n",
       "</style><table id=\"T_0fd79886_a6dc_11ea_a36a_105bad895ad2\" ><thead>    <tr>        <th class=\"blank level0\" ></th>        <th class=\"col_heading level0 col0\" >Purchase Count</th>        <th class=\"col_heading level0 col1\" >Average Purchase Price</th>        <th class=\"col_heading level0 col2\" >Total Purchase Value</th>    </tr>    <tr>        <th class=\"index_name level0\" >SN</th>        <th class=\"blank\" ></th>        <th class=\"blank\" ></th>        <th class=\"blank\" ></th>    </tr></thead><tbody>\n",
       "                <tr>\n",
       "                        <th id=\"T_0fd79886_a6dc_11ea_a36a_105bad895ad2level0_row0\" class=\"row_heading level0 row0\" >Lisosia93</th>\n",
       "                        <td id=\"T_0fd79886_a6dc_11ea_a36a_105bad895ad2row0_col0\" class=\"data row0 col0\" >5</td>\n",
       "                        <td id=\"T_0fd79886_a6dc_11ea_a36a_105bad895ad2row0_col1\" class=\"data row0 col1\" >$3.79</td>\n",
       "                        <td id=\"T_0fd79886_a6dc_11ea_a36a_105bad895ad2row0_col2\" class=\"data row0 col2\" >$18.96</td>\n",
       "            </tr>\n",
       "            <tr>\n",
       "                        <th id=\"T_0fd79886_a6dc_11ea_a36a_105bad895ad2level0_row1\" class=\"row_heading level0 row1\" >Idastidru52</th>\n",
       "                        <td id=\"T_0fd79886_a6dc_11ea_a36a_105bad895ad2row1_col0\" class=\"data row1 col0\" >4</td>\n",
       "                        <td id=\"T_0fd79886_a6dc_11ea_a36a_105bad895ad2row1_col1\" class=\"data row1 col1\" >$3.86</td>\n",
       "                        <td id=\"T_0fd79886_a6dc_11ea_a36a_105bad895ad2row1_col2\" class=\"data row1 col2\" >$15.45</td>\n",
       "            </tr>\n",
       "            <tr>\n",
       "                        <th id=\"T_0fd79886_a6dc_11ea_a36a_105bad895ad2level0_row2\" class=\"row_heading level0 row2\" >Chamjask73</th>\n",
       "                        <td id=\"T_0fd79886_a6dc_11ea_a36a_105bad895ad2row2_col0\" class=\"data row2 col0\" >3</td>\n",
       "                        <td id=\"T_0fd79886_a6dc_11ea_a36a_105bad895ad2row2_col1\" class=\"data row2 col1\" >$4.61</td>\n",
       "                        <td id=\"T_0fd79886_a6dc_11ea_a36a_105bad895ad2row2_col2\" class=\"data row2 col2\" >$13.83</td>\n",
       "            </tr>\n",
       "            <tr>\n",
       "                        <th id=\"T_0fd79886_a6dc_11ea_a36a_105bad895ad2level0_row3\" class=\"row_heading level0 row3\" >Iral74</th>\n",
       "                        <td id=\"T_0fd79886_a6dc_11ea_a36a_105bad895ad2row3_col0\" class=\"data row3 col0\" >4</td>\n",
       "                        <td id=\"T_0fd79886_a6dc_11ea_a36a_105bad895ad2row3_col1\" class=\"data row3 col1\" >$3.40</td>\n",
       "                        <td id=\"T_0fd79886_a6dc_11ea_a36a_105bad895ad2row3_col2\" class=\"data row3 col2\" >$13.62</td>\n",
       "            </tr>\n",
       "            <tr>\n",
       "                        <th id=\"T_0fd79886_a6dc_11ea_a36a_105bad895ad2level0_row4\" class=\"row_heading level0 row4\" >Iskadarya95</th>\n",
       "                        <td id=\"T_0fd79886_a6dc_11ea_a36a_105bad895ad2row4_col0\" class=\"data row4 col0\" >3</td>\n",
       "                        <td id=\"T_0fd79886_a6dc_11ea_a36a_105bad895ad2row4_col1\" class=\"data row4 col1\" >$4.37</td>\n",
       "                        <td id=\"T_0fd79886_a6dc_11ea_a36a_105bad895ad2row4_col2\" class=\"data row4 col2\" >$13.10</td>\n",
       "            </tr>\n",
       "    </tbody></table>"
      ],
      "text/plain": [
       "<pandas.io.formats.style.Styler at 0x2c83742c888>"
      ]
     },
     "execution_count": 13,
     "metadata": {},
     "output_type": "execute_result"
    }
   ],
   "source": [
    "# Group purchase data for each screen name\n",
    "spender_stats = purchase_data.groupby(\"SN\")\n",
    "\n",
    "# Count the total purchases for each screen name\n",
    "purchase_count_by_spender = spender_stats[\"Purchase ID\"].count()\n",
    "\n",
    "# Calculate the average purchase for each screen name\n",
    "avg_purchase_price_by_spender = spender_stats[\"Price\"].mean()\n",
    "\n",
    "# Calculate purchase total for each screen name\n",
    "purchase_total_by_spender = spender_stats[\"Price\"].sum()\n",
    "\n",
    "# Create a summary data frame to hold the results\n",
    "top_spenders = pd.DataFrame({\"Purchase Count\": purchase_count_by_spender,\n",
    "                             \"Average Purchase Price\": avg_purchase_price_by_spender,\n",
    "                             \"Total Purchase Value\":purchase_total_by_spender})\n",
    "\n",
    "# Sort the total purchase value column in descending order to display the top 5 spender screen names \n",
    "formatted_spenders = top_spenders.sort_values([\"Total Purchase Value\"], ascending=False).head()\n",
    "\n",
    "# Display the summary data frame with cleaner formatting for currency style\n",
    "formatted_spenders.style.format({\"Average Purchase Total\":\"${:,.2f}\",\n",
    "                                 \"Average Purchase Price\":\"${:,.2f}\", \n",
    "                                 \"Total Purchase Value\":\"${:,.2f}\"})"
   ]
  },
  {
   "cell_type": "markdown",
   "metadata": {},
   "source": [
    "## Most Popular Items"
   ]
  },
  {
   "cell_type": "markdown",
   "metadata": {},
   "source": [
    "* Retrieve the Item ID, Item Name, and Item Price columns\n",
    "\n",
    "\n",
    "* Group by Item ID and Item Name. Perform calculations to obtain purchase count, item price, and total purchase value\n",
    "\n",
    "\n",
    "* Create a summary data frame to hold the results\n",
    "\n",
    "\n",
    "* Sort the purchase count column in descending order\n",
    "\n",
    "\n",
    "* Optional: give the displayed data cleaner formatting\n",
    "\n",
    "\n",
    "* Display a preview of the summary data frame\n",
    "\n"
   ]
  },
  {
   "cell_type": "code",
   "execution_count": 18,
   "metadata": {},
   "outputs": [
    {
     "data": {
      "text/html": [
       "<style  type=\"text/css\" >\n",
       "</style><table id=\"T_5c80b874_a6dc_11ea_bdf5_105bad895ad2\" ><thead>    <tr>        <th class=\"blank\" ></th>        <th class=\"blank level0\" ></th>        <th class=\"col_heading level0 col0\" >Purchase Count</th>        <th class=\"col_heading level0 col1\" >Item Price</th>        <th class=\"col_heading level0 col2\" >Total Purchase Value</th>    </tr>    <tr>        <th class=\"index_name level0\" >Item ID</th>        <th class=\"index_name level1\" >Item Name</th>        <th class=\"blank\" ></th>        <th class=\"blank\" ></th>        <th class=\"blank\" ></th>    </tr></thead><tbody>\n",
       "                <tr>\n",
       "                        <th id=\"T_5c80b874_a6dc_11ea_bdf5_105bad895ad2level0_row0\" class=\"row_heading level0 row0\" >178</th>\n",
       "                        <th id=\"T_5c80b874_a6dc_11ea_bdf5_105bad895ad2level1_row0\" class=\"row_heading level1 row0\" >Oathbreaker, Last Hope of the Breaking Storm</th>\n",
       "                        <td id=\"T_5c80b874_a6dc_11ea_bdf5_105bad895ad2row0_col0\" class=\"data row0 col0\" >12</td>\n",
       "                        <td id=\"T_5c80b874_a6dc_11ea_bdf5_105bad895ad2row0_col1\" class=\"data row0 col1\" >$4.23</td>\n",
       "                        <td id=\"T_5c80b874_a6dc_11ea_bdf5_105bad895ad2row0_col2\" class=\"data row0 col2\" >$50.76</td>\n",
       "            </tr>\n",
       "            <tr>\n",
       "                        <th id=\"T_5c80b874_a6dc_11ea_bdf5_105bad895ad2level0_row1\" class=\"row_heading level0 row1\" >145</th>\n",
       "                        <th id=\"T_5c80b874_a6dc_11ea_bdf5_105bad895ad2level1_row1\" class=\"row_heading level1 row1\" >Fiery Glass Crusader</th>\n",
       "                        <td id=\"T_5c80b874_a6dc_11ea_bdf5_105bad895ad2row1_col0\" class=\"data row1 col0\" >9</td>\n",
       "                        <td id=\"T_5c80b874_a6dc_11ea_bdf5_105bad895ad2row1_col1\" class=\"data row1 col1\" >$4.58</td>\n",
       "                        <td id=\"T_5c80b874_a6dc_11ea_bdf5_105bad895ad2row1_col2\" class=\"data row1 col2\" >$41.22</td>\n",
       "            </tr>\n",
       "            <tr>\n",
       "                        <th id=\"T_5c80b874_a6dc_11ea_bdf5_105bad895ad2level0_row2\" class=\"row_heading level0 row2\" >108</th>\n",
       "                        <th id=\"T_5c80b874_a6dc_11ea_bdf5_105bad895ad2level1_row2\" class=\"row_heading level1 row2\" >Extraction, Quickblade Of Trembling Hands</th>\n",
       "                        <td id=\"T_5c80b874_a6dc_11ea_bdf5_105bad895ad2row2_col0\" class=\"data row2 col0\" >9</td>\n",
       "                        <td id=\"T_5c80b874_a6dc_11ea_bdf5_105bad895ad2row2_col1\" class=\"data row2 col1\" >$3.53</td>\n",
       "                        <td id=\"T_5c80b874_a6dc_11ea_bdf5_105bad895ad2row2_col2\" class=\"data row2 col2\" >$31.77</td>\n",
       "            </tr>\n",
       "            <tr>\n",
       "                        <th id=\"T_5c80b874_a6dc_11ea_bdf5_105bad895ad2level0_row3\" class=\"row_heading level0 row3\" >82</th>\n",
       "                        <th id=\"T_5c80b874_a6dc_11ea_bdf5_105bad895ad2level1_row3\" class=\"row_heading level1 row3\" >Nirvana</th>\n",
       "                        <td id=\"T_5c80b874_a6dc_11ea_bdf5_105bad895ad2row3_col0\" class=\"data row3 col0\" >9</td>\n",
       "                        <td id=\"T_5c80b874_a6dc_11ea_bdf5_105bad895ad2row3_col1\" class=\"data row3 col1\" >$4.90</td>\n",
       "                        <td id=\"T_5c80b874_a6dc_11ea_bdf5_105bad895ad2row3_col2\" class=\"data row3 col2\" >$44.10</td>\n",
       "            </tr>\n",
       "            <tr>\n",
       "                        <th id=\"T_5c80b874_a6dc_11ea_bdf5_105bad895ad2level0_row4\" class=\"row_heading level0 row4\" >19</th>\n",
       "                        <th id=\"T_5c80b874_a6dc_11ea_bdf5_105bad895ad2level1_row4\" class=\"row_heading level1 row4\" >Pursuit, Cudgel of Necromancy</th>\n",
       "                        <td id=\"T_5c80b874_a6dc_11ea_bdf5_105bad895ad2row4_col0\" class=\"data row4 col0\" >8</td>\n",
       "                        <td id=\"T_5c80b874_a6dc_11ea_bdf5_105bad895ad2row4_col1\" class=\"data row4 col1\" >$1.02</td>\n",
       "                        <td id=\"T_5c80b874_a6dc_11ea_bdf5_105bad895ad2row4_col2\" class=\"data row4 col2\" >$8.16</td>\n",
       "            </tr>\n",
       "    </tbody></table>"
      ],
      "text/plain": [
       "<pandas.io.formats.style.Styler at 0x2c8383e3d48>"
      ]
     },
     "execution_count": 18,
     "metadata": {},
     "output_type": "execute_result"
    }
   ],
   "source": [
    "# Create new data frame with the Item ID, Item Name, and Item Price columns\n",
    "items = purchase_data[[\"Item ID\", \"Item Name\", \"Price\"]]\n",
    "\n",
    "# Group by Item ID and Item Name\n",
    "popular_items = items.groupby([\"Item ID\",\"Item Name\"])\n",
    "\n",
    "# Calculate the number of times an item has been purchased \n",
    "item_purchase_count = popular_items[\"Price\"].count()\n",
    "\n",
    "# Calculate the total purchase value for each item \n",
    "total_purchase_value = (popular_items[\"Price\"].sum()) \n",
    "\n",
    "# Calculate the price for each item\n",
    "item_price = total_purchase_value/item_purchase_count\n",
    "\n",
    "# Create a summary data frame to hold the results\n",
    "most_popular_items = pd.DataFrame({\"Purchase Count\": item_purchase_count, \n",
    "                                   \"Item Price\": item_price,\n",
    "                                   \"Total Purchase Value\":total_purchase_value})\n",
    "\n",
    "# Sort the purchase count column in descending order to obtain top spender names\n",
    "most_popular_items_formatted = most_popular_items.sort_values([\"Purchase Count\"], ascending=False).head()\n",
    "\n",
    "# Give the displayed data elements a cleaner formatting with currency style\n",
    "most_popular_items_formatted.style.format({\"Item Price\":\"${:,.2f}\",\n",
    "                                \"Total Purchase Value\":\"${:,.2f}\"})"
   ]
  },
  {
   "cell_type": "markdown",
   "metadata": {},
   "source": [
    "## Most Profitable Items"
   ]
  },
  {
   "cell_type": "markdown",
   "metadata": {},
   "source": [
    "* Sort the above table by total purchase value in descending order\n",
    "\n",
    "\n",
    "* Optional: give the displayed data cleaner formatting\n",
    "\n",
    "\n",
    "* Display a preview of the data frame\n",
    "\n"
   ]
  },
  {
   "cell_type": "code",
   "execution_count": 19,
   "metadata": {},
   "outputs": [
    {
     "data": {
      "text/html": [
       "<style  type=\"text/css\" >\n",
       "</style><table id=\"T_634b49d8_a6dc_11ea_a41a_105bad895ad2\" ><thead>    <tr>        <th class=\"blank\" ></th>        <th class=\"blank level0\" ></th>        <th class=\"col_heading level0 col0\" >Purchase Count</th>        <th class=\"col_heading level0 col1\" >Item Price</th>        <th class=\"col_heading level0 col2\" >Total Purchase Value</th>    </tr>    <tr>        <th class=\"index_name level0\" >Item ID</th>        <th class=\"index_name level1\" >Item Name</th>        <th class=\"blank\" ></th>        <th class=\"blank\" ></th>        <th class=\"blank\" ></th>    </tr></thead><tbody>\n",
       "                <tr>\n",
       "                        <th id=\"T_634b49d8_a6dc_11ea_a41a_105bad895ad2level0_row0\" class=\"row_heading level0 row0\" >178</th>\n",
       "                        <th id=\"T_634b49d8_a6dc_11ea_a41a_105bad895ad2level1_row0\" class=\"row_heading level1 row0\" >Oathbreaker, Last Hope of the Breaking Storm</th>\n",
       "                        <td id=\"T_634b49d8_a6dc_11ea_a41a_105bad895ad2row0_col0\" class=\"data row0 col0\" >12</td>\n",
       "                        <td id=\"T_634b49d8_a6dc_11ea_a41a_105bad895ad2row0_col1\" class=\"data row0 col1\" >$4.23</td>\n",
       "                        <td id=\"T_634b49d8_a6dc_11ea_a41a_105bad895ad2row0_col2\" class=\"data row0 col2\" >$50.76</td>\n",
       "            </tr>\n",
       "            <tr>\n",
       "                        <th id=\"T_634b49d8_a6dc_11ea_a41a_105bad895ad2level0_row1\" class=\"row_heading level0 row1\" >82</th>\n",
       "                        <th id=\"T_634b49d8_a6dc_11ea_a41a_105bad895ad2level1_row1\" class=\"row_heading level1 row1\" >Nirvana</th>\n",
       "                        <td id=\"T_634b49d8_a6dc_11ea_a41a_105bad895ad2row1_col0\" class=\"data row1 col0\" >9</td>\n",
       "                        <td id=\"T_634b49d8_a6dc_11ea_a41a_105bad895ad2row1_col1\" class=\"data row1 col1\" >$4.90</td>\n",
       "                        <td id=\"T_634b49d8_a6dc_11ea_a41a_105bad895ad2row1_col2\" class=\"data row1 col2\" >$44.10</td>\n",
       "            </tr>\n",
       "            <tr>\n",
       "                        <th id=\"T_634b49d8_a6dc_11ea_a41a_105bad895ad2level0_row2\" class=\"row_heading level0 row2\" >145</th>\n",
       "                        <th id=\"T_634b49d8_a6dc_11ea_a41a_105bad895ad2level1_row2\" class=\"row_heading level1 row2\" >Fiery Glass Crusader</th>\n",
       "                        <td id=\"T_634b49d8_a6dc_11ea_a41a_105bad895ad2row2_col0\" class=\"data row2 col0\" >9</td>\n",
       "                        <td id=\"T_634b49d8_a6dc_11ea_a41a_105bad895ad2row2_col1\" class=\"data row2 col1\" >$4.58</td>\n",
       "                        <td id=\"T_634b49d8_a6dc_11ea_a41a_105bad895ad2row2_col2\" class=\"data row2 col2\" >$41.22</td>\n",
       "            </tr>\n",
       "            <tr>\n",
       "                        <th id=\"T_634b49d8_a6dc_11ea_a41a_105bad895ad2level0_row3\" class=\"row_heading level0 row3\" >92</th>\n",
       "                        <th id=\"T_634b49d8_a6dc_11ea_a41a_105bad895ad2level1_row3\" class=\"row_heading level1 row3\" >Final Critic</th>\n",
       "                        <td id=\"T_634b49d8_a6dc_11ea_a41a_105bad895ad2row3_col0\" class=\"data row3 col0\" >8</td>\n",
       "                        <td id=\"T_634b49d8_a6dc_11ea_a41a_105bad895ad2row3_col1\" class=\"data row3 col1\" >$4.88</td>\n",
       "                        <td id=\"T_634b49d8_a6dc_11ea_a41a_105bad895ad2row3_col2\" class=\"data row3 col2\" >$39.04</td>\n",
       "            </tr>\n",
       "            <tr>\n",
       "                        <th id=\"T_634b49d8_a6dc_11ea_a41a_105bad895ad2level0_row4\" class=\"row_heading level0 row4\" >103</th>\n",
       "                        <th id=\"T_634b49d8_a6dc_11ea_a41a_105bad895ad2level1_row4\" class=\"row_heading level1 row4\" >Singed Scalpel</th>\n",
       "                        <td id=\"T_634b49d8_a6dc_11ea_a41a_105bad895ad2row4_col0\" class=\"data row4 col0\" >8</td>\n",
       "                        <td id=\"T_634b49d8_a6dc_11ea_a41a_105bad895ad2row4_col1\" class=\"data row4 col1\" >$4.35</td>\n",
       "                        <td id=\"T_634b49d8_a6dc_11ea_a41a_105bad895ad2row4_col2\" class=\"data row4 col2\" >$34.80</td>\n",
       "            </tr>\n",
       "    </tbody></table>"
      ],
      "text/plain": [
       "<pandas.io.formats.style.Styler at 0x2c8383d4208>"
      ]
     },
     "execution_count": 19,
     "metadata": {},
     "output_type": "execute_result"
    }
   ],
   "source": [
    "# Sort the above table by total purchase value in descending order to find highest total purchase value\n",
    "most_profitable = most_popular_items.sort_values([\"Total Purchase Value\"],\n",
    "                                                   ascending=False).head()\n",
    "\n",
    "# Give the displayed data elements a cleaner formatting for currency style\n",
    "most_profitable.style.format({\"Item Price\":\"${:,.2f}\",\n",
    "                                \"Total Purchase Value\":\"${:,.2f}\"})"
   ]
  }
 ],
 "metadata": {
  "anaconda-cloud": {},
  "kernel_info": {
   "name": "python3"
  },
  "kernelspec": {
   "display_name": "Python 3",
   "language": "python",
   "name": "python3"
  },
  "language_info": {
   "codemirror_mode": {
    "name": "ipython",
    "version": 3
   },
   "file_extension": ".py",
   "mimetype": "text/x-python",
   "name": "python",
   "nbconvert_exporter": "python",
   "pygments_lexer": "ipython3",
   "version": "3.7.6"
  },
  "latex_envs": {
   "LaTeX_envs_menu_present": true,
   "autoclose": false,
   "autocomplete": true,
   "bibliofile": "biblio.bib",
   "cite_by": "apalike",
   "current_citInitial": 1,
   "eqLabelWithNumbers": true,
   "eqNumInitial": 1,
   "hotkeys": {
    "equation": "Ctrl-E",
    "itemize": "Ctrl-I"
   },
   "labels_anchors": false,
   "latex_user_defs": false,
   "report_style_numbering": false,
   "user_envs_cfg": false
  },
  "nteract": {
   "version": "0.2.0"
  }
 },
 "nbformat": 4,
 "nbformat_minor": 2
}
